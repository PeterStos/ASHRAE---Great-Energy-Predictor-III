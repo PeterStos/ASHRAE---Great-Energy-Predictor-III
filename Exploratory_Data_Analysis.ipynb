{
 "cells": [
  {
   "cell_type": "markdown",
   "id": "ec74dda4",
   "metadata": {},
   "source": [
    "# ASHRAE - Great Energy Predictor III"
   ]
  },
  {
   "cell_type": "code",
   "execution_count": null,
   "id": "78a8c416",
   "metadata": {},
   "outputs": [],
   "source": []
  },
  {
   "cell_type": "code",
   "execution_count": null,
   "id": "9c7a2e5b",
   "metadata": {},
   "outputs": [],
   "source": []
  },
  {
   "cell_type": "markdown",
   "id": "0f4b5b77",
   "metadata": {},
   "source": [
    "## Import libraries"
   ]
  },
  {
   "cell_type": "code",
   "execution_count": 15,
   "id": "1475bae0",
   "metadata": {},
   "outputs": [],
   "source": [
    "import numpy as np\n",
    "import pandas as pd\n",
    "import seaborn as sns\n",
    "pd.set_option('display.max_columns', None)\n",
    "pd.set_option('display.max_rows', None) \n",
    "\n",
    "from termcolor import colored\n",
    "import pylab\n",
    "from sklearn.impute import SimpleImputer\n",
    "from sklearn.model_selection import train_test_split\n",
    "from sklearn.ensemble import RandomForestRegressor\n",
    "from sklearn.metrics import mean_absolute_error\n",
    "\n",
    "# To plot nice figures\n",
    "%matplotlib inline\n",
    "import matplotlib as mpl\n",
    "import matplotlib.pyplot as plt\n",
    "mpl.rc('axes', labelsize=14)\n",
    "mpl.rc('xtick', labelsize=12)\n",
    "mpl.rc('ytick', labelsize=12)\n",
    "\n",
    "# sklearn tools and models\n",
    "from sklearn.model_selection import GridSearchCV, RandomizedSearchCV\n",
    "from sklearn.ensemble import RandomForestClassifier\n",
    "from sklearn.metrics import accuracy_score, confusion_matrix, classification_report"
   ]
  },
  {
   "cell_type": "markdown",
   "id": "8376114c",
   "metadata": {},
   "source": [
    "## Import Data"
   ]
  },
  {
   "cell_type": "markdown",
   "id": "4d1147c7",
   "metadata": {},
   "source": [
    "#### train.csv\n",
    "- building_id - Foreign key for the building metadata.\n",
    "- meter - The meter id code. Read as {0: electricity, 1: chilledwater, 2: steam, 3: hotwater}. Not every building has all meter types.\n",
    "- timestamp - When the measurement was taken\n",
    "- meter_reading - The target variable. Energy consumption in kWh (or equivalent). Note that this is real data with measurement error, which we expect will impose a baseline level of modeling error. UPDATE: as discussed here, the site 0 electric meter readings are in kBTU."
   ]
  },
  {
   "cell_type": "markdown",
   "id": "6d780636",
   "metadata": {},
   "source": [
    "#### test.csv\n",
    "The submission files use row numbers for ID codes in order to save space on the file uploads. test.csv has no feature data; it exists so you can get your predictions into the correct order.\n",
    "\n",
    "- row_id - Row id for your submission file\n",
    "- building_id - Building id code\n",
    "- meter - The meter id code\n",
    "- timestamp - Timestamps for the test data period"
   ]
  },
  {
   "cell_type": "markdown",
   "id": "41179c51",
   "metadata": {},
   "source": [
    "#### building_meta.csv\n",
    "- site_id - Foreign key for the weather files.\n",
    "- building_id - Foreign key for training.csv\n",
    "- primary_use - Indicator of the primary category of activities for the building based on EnergyStar property type definitions\n",
    "- square_feet - Gross floor area of the building\n",
    "- year_built - Year building was opened\n",
    "- floor_count - Number of floors of the building"
   ]
  },
  {
   "cell_type": "markdown",
   "id": "1d203b6a",
   "metadata": {},
   "source": [
    "#### weather_[train/test].csv\n",
    "Weather data from a meteorological station as close as possible to the site.\n",
    "\n",
    "- site_id\n",
    "- air_temperature - Degrees Celsius\n",
    "- cloud_coverage - Portion of the sky covered in clouds, in oktas\n",
    "- dew_temperature - Degrees Celsius\n",
    "- precip_depth_1_hr - Millimeters\n",
    "- sea_level_pressure - Millibar/hectopascals\n",
    "- wind_direction - Compass direction (0-360)\n",
    "- wind_speed - Meters per second"
   ]
  },
  {
   "cell_type": "code",
   "execution_count": 12,
   "id": "1355864a",
   "metadata": {},
   "outputs": [],
   "source": [
    "# train.csv\n",
    "train_df = pd.read_csv(\"./data/train.csv\")\n",
    "# Copy\n",
    "train = train_df\n",
    "\n",
    "# test.csv\n",
    "test_df = pd.read_csv(\"./data/test.csv\")\n",
    "# Copy\n",
    "test = test_df\n",
    "\n",
    "# building_meta.csv\n",
    "build_meta_df = pd.read_csv(\"./data/building_metadata.csv\")\n",
    "# Copy\n",
    "build_meta = build_meta_df\n",
    "\n",
    "# weather_train.csv\n",
    "weather_train_df = pd.read_csv(\"./data/weather_train.csv\")\n",
    "# Copy\n",
    "weather_train = weather_train_df\n",
    "\n",
    "# weather_test.csv\n",
    "weather_test_df = pd.read_csv(\"./data/weather_test.csv\")\n",
    "# Copy\n",
    "weather_test = weather_test_df"
   ]
  },
  {
   "cell_type": "markdown",
   "id": "6736dc7b",
   "metadata": {},
   "source": [
    "## Auxiliar Functions"
   ]
  },
  {
   "cell_type": "code",
   "execution_count": 28,
   "id": "7eefc3db",
   "metadata": {},
   "outputs": [],
   "source": [
    "# Function to print main info about the dataset\n",
    "def ds_info(df):\n",
    "    print(colored('SIZE' , 'blue', attrs=['bold', 'dark']))\n",
    "    print(df.size)\n",
    "    print(colored('\\nSHAPE' , 'blue', attrs=['bold', 'dark']))\n",
    "    print(df.shape)\n",
    "    print(colored('\\nINFO' , 'blue', attrs=['bold', 'dark']))\n",
    "    print(df.info())\n",
    "    print(colored('\\nNULL VALUES' , 'blue', attrs=['bold', 'dark']))\n",
    "    print(df.isnull().sum())\n",
    "    print(colored('\\nHEAD' , 'blue', attrs=['bold', 'dark']))\n",
    "    print(df.head())\n",
    "    print(colored('\\nTAIL' , 'blue', attrs=['bold', 'dark']))\n",
    "    print(df.tail())\n",
    "    print(colored('\\nDESCRIBE - Numerical' , 'blue', attrs=['bold', 'dark']))\n",
    "    print(df.describe())\n",
    "    print(colored('\\nDESCRIBE - Categorical' , 'blue', attrs=['bold', 'dark']))\n",
    "    print(df.describe(include='object'))\n",
    "    \n",
    "    print(colored('\\nUNIQUE ENTRIES IN EACH NUMERICAL COLUMN' , 'blue', attrs=['bold', 'dark']))\n",
    "    # Get number of unique entries in each column with numerical data\n",
    "    num_cols = [col for col in df.columns if df[col].dtype != \"object\"]\n",
    "    num_nunique = list(map(lambda col: df[col].nunique(), num_cols))    \n",
    "    dn = dict(zip(num_cols, num_nunique))\n",
    "    # Print number of unique entries by column, in ascending order\n",
    "    print(sorted(dn.items(), key=lambda x: x[1]))\n",
    "    \n",
    "    print(colored('\\nUNIQUE ENTRIES IN EACH CATEGORICAL COLUMN' , 'blue', attrs=['bold', 'dark']))\n",
    "    # Get number of unique entries in each column with categorical data\n",
    "    object_cols = [col for col in df.columns if df[col].dtype == \"object\"]\n",
    "    object_nunique = list(map(lambda col: df[col].nunique(), object_cols))\n",
    "    dc = dict(zip(object_cols, object_nunique))\n",
    "    # Print number of unique entries by column, in ascending order\n",
    "    print(sorted(dc.items(), key=lambda x: x[1]))"
   ]
  },
  {
   "cell_type": "markdown",
   "id": "bc34001b",
   "metadata": {},
   "source": [
    "## Exploratory Data Analysis"
   ]
  },
  {
   "cell_type": "markdown",
   "id": "e8c15d04",
   "metadata": {},
   "source": [
    "#### Train Dataset"
   ]
  },
  {
   "cell_type": "code",
   "execution_count": 29,
   "id": "c485215a",
   "metadata": {},
   "outputs": [
    {
     "name": "stdout",
     "output_type": "stream",
     "text": [
      "\u001b[2m\u001b[1m\u001b[34mSIZE\u001b[0m\n",
      "80864400\n",
      "\u001b[2m\u001b[1m\u001b[34m\n",
      "SHAPE\u001b[0m\n",
      "(20216100, 4)\n",
      "\u001b[2m\u001b[1m\u001b[34m\n",
      "INFO\u001b[0m\n",
      "<class 'pandas.core.frame.DataFrame'>\n",
      "RangeIndex: 20216100 entries, 0 to 20216099\n",
      "Data columns (total 4 columns):\n",
      " #   Column         Dtype  \n",
      "---  ------         -----  \n",
      " 0   building_id    int64  \n",
      " 1   meter          int64  \n",
      " 2   timestamp      object \n",
      " 3   meter_reading  float64\n",
      "dtypes: float64(1), int64(2), object(1)\n",
      "memory usage: 616.9+ MB\n",
      "None\n",
      "\u001b[2m\u001b[1m\u001b[34m\n",
      "NULL VALUES\u001b[0m\n",
      "building_id      0\n",
      "meter            0\n",
      "timestamp        0\n",
      "meter_reading    0\n",
      "dtype: int64\n",
      "\u001b[2m\u001b[1m\u001b[34m\n",
      "HEAD\u001b[0m\n",
      "   building_id  meter            timestamp  meter_reading\n",
      "0            0      0  2016-01-01 00:00:00            0.0\n",
      "1            1      0  2016-01-01 00:00:00            0.0\n",
      "2            2      0  2016-01-01 00:00:00            0.0\n",
      "3            3      0  2016-01-01 00:00:00            0.0\n",
      "4            4      0  2016-01-01 00:00:00            0.0\n",
      "\u001b[2m\u001b[1m\u001b[34m\n",
      "TAIL\u001b[0m\n",
      "          building_id  meter            timestamp  meter_reading\n",
      "20216095         1444      0  2016-12-31 23:00:00          8.750\n",
      "20216096         1445      0  2016-12-31 23:00:00          4.825\n",
      "20216097         1446      0  2016-12-31 23:00:00          0.000\n",
      "20216098         1447      0  2016-12-31 23:00:00        159.575\n",
      "20216099         1448      0  2016-12-31 23:00:00          2.850\n",
      "\u001b[2m\u001b[1m\u001b[34m\n",
      "DESCRIBE - Numerical\u001b[0m\n",
      "        building_id         meter  meter_reading\n",
      "count  2.021610e+07  2.021610e+07   2.021610e+07\n",
      "mean   7.992780e+02  6.624412e-01   2.117121e+03\n",
      "std    4.269133e+02  9.309921e-01   1.532356e+05\n",
      "min    0.000000e+00  0.000000e+00   0.000000e+00\n",
      "25%    3.930000e+02  0.000000e+00   1.830000e+01\n",
      "50%    8.950000e+02  0.000000e+00   7.877500e+01\n",
      "75%    1.179000e+03  1.000000e+00   2.679840e+02\n",
      "max    1.448000e+03  3.000000e+00   2.190470e+07\n",
      "\u001b[2m\u001b[1m\u001b[34m\n",
      "DESCRIBE - Categorical\u001b[0m\n",
      "                  timestamp\n",
      "count              20216100\n",
      "unique                 8784\n",
      "top     2016-12-27 22:00:00\n",
      "freq                   2370\n",
      "\u001b[2m\u001b[1m\u001b[34m\n",
      "UNIQUE ENTRIES IN EACH NUMERICAL COLUMN\u001b[0m\n",
      "[('meter', 4), ('building_id', 1449), ('meter_reading', 1688175)]\n",
      "\u001b[2m\u001b[1m\u001b[34m\n",
      "UNIQUE ENTRIES IN EACH CATEGORICAL COLUMN\u001b[0m\n",
      "[('timestamp', 8784)]\n"
     ]
    }
   ],
   "source": [
    "ds_info(train)"
   ]
  },
  {
   "cell_type": "markdown",
   "id": "a51e9352",
   "metadata": {},
   "source": [
    "#### Building Meta"
   ]
  },
  {
   "cell_type": "code",
   "execution_count": 30,
   "id": "000d8295",
   "metadata": {},
   "outputs": [
    {
     "name": "stdout",
     "output_type": "stream",
     "text": [
      "\u001b[2m\u001b[1m\u001b[34mSIZE\u001b[0m\n",
      "8694\n",
      "\u001b[2m\u001b[1m\u001b[34m\n",
      "SHAPE\u001b[0m\n",
      "(1449, 6)\n",
      "\u001b[2m\u001b[1m\u001b[34m\n",
      "INFO\u001b[0m\n",
      "<class 'pandas.core.frame.DataFrame'>\n",
      "RangeIndex: 1449 entries, 0 to 1448\n",
      "Data columns (total 6 columns):\n",
      " #   Column       Non-Null Count  Dtype  \n",
      "---  ------       --------------  -----  \n",
      " 0   site_id      1449 non-null   int64  \n",
      " 1   building_id  1449 non-null   int64  \n",
      " 2   primary_use  1449 non-null   object \n",
      " 3   square_feet  1449 non-null   int64  \n",
      " 4   year_built   675 non-null    float64\n",
      " 5   floor_count  355 non-null    float64\n",
      "dtypes: float64(2), int64(3), object(1)\n",
      "memory usage: 68.0+ KB\n",
      "None\n",
      "\u001b[2m\u001b[1m\u001b[34m\n",
      "NULL VALUES\u001b[0m\n",
      "site_id           0\n",
      "building_id       0\n",
      "primary_use       0\n",
      "square_feet       0\n",
      "year_built      774\n",
      "floor_count    1094\n",
      "dtype: int64\n",
      "\u001b[2m\u001b[1m\u001b[34m\n",
      "HEAD\u001b[0m\n",
      "   site_id  building_id primary_use  square_feet  year_built  floor_count\n",
      "0        0            0   Education         7432      2008.0          NaN\n",
      "1        0            1   Education         2720      2004.0          NaN\n",
      "2        0            2   Education         5376      1991.0          NaN\n",
      "3        0            3   Education        23685      2002.0          NaN\n",
      "4        0            4   Education       116607      1975.0          NaN\n",
      "\u001b[2m\u001b[1m\u001b[34m\n",
      "TAIL\u001b[0m\n",
      "      site_id  building_id                    primary_use  square_feet  \\\n",
      "1444       15         1444  Entertainment/public assembly        19619   \n",
      "1445       15         1445                      Education         4298   \n",
      "1446       15         1446  Entertainment/public assembly        11265   \n",
      "1447       15         1447            Lodging/residential        29775   \n",
      "1448       15         1448                         Office        92271   \n",
      "\n",
      "      year_built  floor_count  \n",
      "1444      1914.0          NaN  \n",
      "1445         NaN          NaN  \n",
      "1446      1997.0          NaN  \n",
      "1447      2001.0          NaN  \n",
      "1448      2001.0          NaN  \n",
      "\u001b[2m\u001b[1m\u001b[34m\n",
      "DESCRIBE - Numerical\u001b[0m\n",
      "           site_id  building_id    square_feet   year_built  floor_count\n",
      "count  1449.000000  1449.000000    1449.000000   675.000000   355.000000\n",
      "mean      6.952381   724.000000   92111.776398  1967.957037     3.740845\n",
      "std       5.003432   418.434583  110769.950997    31.054030     3.333683\n",
      "min       0.000000     0.000000     283.000000  1900.000000     1.000000\n",
      "25%       3.000000   362.000000   23012.000000  1949.000000     1.000000\n",
      "50%       5.000000   724.000000   57673.000000  1970.000000     3.000000\n",
      "75%      13.000000  1086.000000  115676.000000  1995.000000     5.000000\n",
      "max      15.000000  1448.000000  875000.000000  2017.000000    26.000000\n",
      "\u001b[2m\u001b[1m\u001b[34m\n",
      "DESCRIBE - Categorical\u001b[0m\n",
      "       primary_use\n",
      "count         1449\n",
      "unique          16\n",
      "top      Education\n",
      "freq           549\n",
      "\u001b[2m\u001b[1m\u001b[34m\n",
      "UNIQUE ENTRIES IN EACH NUMERICAL COLUMN\u001b[0m\n",
      "[('site_id', 16), ('floor_count', 18), ('year_built', 116), ('square_feet', 1397), ('building_id', 1449)]\n",
      "\u001b[2m\u001b[1m\u001b[34m\n",
      "UNIQUE ENTRIES IN EACH CATEGORICAL COLUMN\u001b[0m\n",
      "[('primary_use', 16)]\n"
     ]
    }
   ],
   "source": [
    "ds_info(build_meta)"
   ]
  },
  {
   "cell_type": "markdown",
   "id": "eb3bd624",
   "metadata": {},
   "source": [
    "#### Weather Train"
   ]
  },
  {
   "cell_type": "code",
   "execution_count": 36,
   "id": "6af8ff5e",
   "metadata": {},
   "outputs": [
    {
     "name": "stdout",
     "output_type": "stream",
     "text": [
      "\u001b[2m\u001b[1m\u001b[34mSIZE\u001b[0m\n",
      "1257957\n",
      "\u001b[2m\u001b[1m\u001b[34m\n",
      "SHAPE\u001b[0m\n",
      "(139773, 9)\n",
      "\u001b[2m\u001b[1m\u001b[34m\n",
      "INFO\u001b[0m\n",
      "<class 'pandas.core.frame.DataFrame'>\n",
      "RangeIndex: 139773 entries, 0 to 139772\n",
      "Data columns (total 9 columns):\n",
      " #   Column              Non-Null Count   Dtype  \n",
      "---  ------              --------------   -----  \n",
      " 0   site_id             139773 non-null  int64  \n",
      " 1   timestamp           139773 non-null  object \n",
      " 2   air_temperature     139718 non-null  float64\n",
      " 3   cloud_coverage      70600 non-null   float64\n",
      " 4   dew_temperature     139660 non-null  float64\n",
      " 5   precip_depth_1_hr   89484 non-null   float64\n",
      " 6   sea_level_pressure  129155 non-null  float64\n",
      " 7   wind_direction      133505 non-null  float64\n",
      " 8   wind_speed          139469 non-null  float64\n",
      "dtypes: float64(7), int64(1), object(1)\n",
      "memory usage: 9.6+ MB\n",
      "None\n",
      "\u001b[2m\u001b[1m\u001b[34m\n",
      "NULL VALUES\u001b[0m\n",
      "site_id                   0\n",
      "timestamp                 0\n",
      "air_temperature          55\n",
      "cloud_coverage        69173\n",
      "dew_temperature         113\n",
      "precip_depth_1_hr     50289\n",
      "sea_level_pressure    10618\n",
      "wind_direction         6268\n",
      "wind_speed              304\n",
      "dtype: int64\n",
      "\u001b[2m\u001b[1m\u001b[34m\n",
      "HEAD\u001b[0m\n",
      "   site_id            timestamp  air_temperature  cloud_coverage  \\\n",
      "0        0  2016-01-01 00:00:00             25.0             6.0   \n",
      "1        0  2016-01-01 01:00:00             24.4             NaN   \n",
      "2        0  2016-01-01 02:00:00             22.8             2.0   \n",
      "3        0  2016-01-01 03:00:00             21.1             2.0   \n",
      "4        0  2016-01-01 04:00:00             20.0             2.0   \n",
      "\n",
      "   dew_temperature  precip_depth_1_hr  sea_level_pressure  wind_direction  \\\n",
      "0             20.0                NaN              1019.7             0.0   \n",
      "1             21.1               -1.0              1020.2            70.0   \n",
      "2             21.1                0.0              1020.2             0.0   \n",
      "3             20.6                0.0              1020.1             0.0   \n",
      "4             20.0               -1.0              1020.0           250.0   \n",
      "\n",
      "   wind_speed  \n",
      "0         0.0  \n",
      "1         1.5  \n",
      "2         0.0  \n",
      "3         0.0  \n",
      "4         2.6  \n",
      "\u001b[2m\u001b[1m\u001b[34m\n",
      "TAIL\u001b[0m\n",
      "        site_id            timestamp  air_temperature  cloud_coverage  \\\n",
      "139768       15  2016-12-31 19:00:00              3.0             NaN   \n",
      "139769       15  2016-12-31 20:00:00              2.8             2.0   \n",
      "139770       15  2016-12-31 21:00:00              2.8             NaN   \n",
      "139771       15  2016-12-31 22:00:00              2.2             NaN   \n",
      "139772       15  2016-12-31 23:00:00              1.7             NaN   \n",
      "\n",
      "        dew_temperature  precip_depth_1_hr  sea_level_pressure  \\\n",
      "139768             -8.0                NaN                 NaN   \n",
      "139769             -8.9                NaN              1007.4   \n",
      "139770             -7.2                NaN              1007.5   \n",
      "139771             -6.7                NaN              1008.0   \n",
      "139772             -5.6               -1.0              1008.5   \n",
      "\n",
      "        wind_direction  wind_speed  \n",
      "139768           180.0         5.7  \n",
      "139769           180.0         7.7  \n",
      "139770           180.0         5.1  \n",
      "139771           170.0         4.6  \n",
      "139772           180.0         8.8  \n",
      "\u001b[2m\u001b[1m\u001b[34m\n",
      "DESCRIBE - Numerical\u001b[0m\n",
      "             site_id  air_temperature  cloud_coverage  dew_temperature  \\\n",
      "count  139773.000000    139718.000000    70600.000000    139660.000000   \n",
      "mean        7.478977        14.418106        2.149306         7.350158   \n",
      "std         4.604744        10.626595        2.599150         9.790235   \n",
      "min         0.000000       -28.900000        0.000000       -35.000000   \n",
      "25%         3.000000         7.200000        0.000000         0.600000   \n",
      "50%         7.000000        15.000000        2.000000         8.300000   \n",
      "75%        11.000000        22.200000        4.000000        14.400000   \n",
      "max        15.000000        47.200000        9.000000        26.100000   \n",
      "\n",
      "       precip_depth_1_hr  sea_level_pressure  wind_direction     wind_speed  \n",
      "count       89484.000000       129155.000000   133505.000000  139469.000000  \n",
      "mean            0.983047         1016.158038      180.526632       3.560527  \n",
      "std             8.463678            7.629684      111.523629       2.335874  \n",
      "min            -1.000000          968.200000        0.000000       0.000000  \n",
      "25%             0.000000         1011.800000       80.000000       2.100000  \n",
      "50%             0.000000         1016.400000      190.000000       3.100000  \n",
      "75%             0.000000         1020.800000      280.000000       5.000000  \n",
      "max           343.000000         1045.500000      360.000000      19.000000  \n",
      "\u001b[2m\u001b[1m\u001b[34m\n",
      "DESCRIBE - Categorical\u001b[0m\n",
      "                  timestamp\n",
      "count                139773\n",
      "unique                 8784\n",
      "top     2016-07-02 00:00:00\n",
      "freq                     16\n",
      "\u001b[2m\u001b[1m\u001b[34m\n",
      "UNIQUE ENTRIES IN EACH NUMERICAL COLUMN\u001b[0m\n",
      "[('cloud_coverage', 10), ('site_id', 16), ('wind_direction', 43), ('wind_speed', 58), ('precip_depth_1_hr', 128), ('dew_temperature', 522), ('air_temperature', 619), ('sea_level_pressure', 709)]\n",
      "\u001b[2m\u001b[1m\u001b[34m\n",
      "UNIQUE ENTRIES IN EACH CATEGORICAL COLUMN\u001b[0m\n",
      "[('timestamp', 8784)]\n"
     ]
    }
   ],
   "source": [
    "ds_info(weather_train)"
   ]
  },
  {
   "cell_type": "markdown",
   "id": "71e83151",
   "metadata": {},
   "source": [
    "#### Weather Test"
   ]
  },
  {
   "cell_type": "code",
   "execution_count": 37,
   "id": "e7860d0e",
   "metadata": {},
   "outputs": [
    {
     "name": "stdout",
     "output_type": "stream",
     "text": [
      "\u001b[2m\u001b[1m\u001b[34mSIZE\u001b[0m\n",
      "2495187\n",
      "\u001b[2m\u001b[1m\u001b[34m\n",
      "SHAPE\u001b[0m\n",
      "(277243, 9)\n",
      "\u001b[2m\u001b[1m\u001b[34m\n",
      "INFO\u001b[0m\n",
      "<class 'pandas.core.frame.DataFrame'>\n",
      "RangeIndex: 277243 entries, 0 to 277242\n",
      "Data columns (total 9 columns):\n",
      " #   Column              Non-Null Count   Dtype  \n",
      "---  ------              --------------   -----  \n",
      " 0   site_id             277243 non-null  int64  \n",
      " 1   timestamp           277243 non-null  object \n",
      " 2   air_temperature     277139 non-null  float64\n",
      " 3   cloud_coverage      136795 non-null  float64\n",
      " 4   dew_temperature     276916 non-null  float64\n",
      " 5   precip_depth_1_hr   181655 non-null  float64\n",
      " 6   sea_level_pressure  255978 non-null  float64\n",
      " 7   wind_direction      264873 non-null  float64\n",
      " 8   wind_speed          276783 non-null  float64\n",
      "dtypes: float64(7), int64(1), object(1)\n",
      "memory usage: 19.0+ MB\n",
      "None\n",
      "\u001b[2m\u001b[1m\u001b[34m\n",
      "NULL VALUES\u001b[0m\n",
      "site_id                    0\n",
      "timestamp                  0\n",
      "air_temperature          104\n",
      "cloud_coverage        140448\n",
      "dew_temperature          327\n",
      "precip_depth_1_hr      95588\n",
      "sea_level_pressure     21265\n",
      "wind_direction         12370\n",
      "wind_speed               460\n",
      "dtype: int64\n",
      "\u001b[2m\u001b[1m\u001b[34m\n",
      "HEAD\u001b[0m\n",
      "   site_id            timestamp  air_temperature  cloud_coverage  \\\n",
      "0        0  2017-01-01 00:00:00             17.8             4.0   \n",
      "1        0  2017-01-01 01:00:00             17.8             2.0   \n",
      "2        0  2017-01-01 02:00:00             16.1             0.0   \n",
      "3        0  2017-01-01 03:00:00             17.2             0.0   \n",
      "4        0  2017-01-01 04:00:00             16.7             2.0   \n",
      "\n",
      "   dew_temperature  precip_depth_1_hr  sea_level_pressure  wind_direction  \\\n",
      "0             11.7                NaN              1021.4           100.0   \n",
      "1             12.8                0.0              1022.0           130.0   \n",
      "2             12.8                0.0              1021.9           140.0   \n",
      "3             13.3                0.0              1022.2           140.0   \n",
      "4             13.3                0.0              1022.3           130.0   \n",
      "\n",
      "   wind_speed  \n",
      "0         3.6  \n",
      "1         3.1  \n",
      "2         3.1  \n",
      "3         3.1  \n",
      "4         2.6  \n",
      "\u001b[2m\u001b[1m\u001b[34m\n",
      "TAIL\u001b[0m\n",
      "        site_id            timestamp  air_temperature  cloud_coverage  \\\n",
      "277238       15  2018-12-31 19:00:00              3.3             NaN   \n",
      "277239       15  2018-12-31 20:00:00              2.8             NaN   \n",
      "277240       15  2018-12-31 21:00:00              2.8             NaN   \n",
      "277241       15  2018-12-31 22:00:00              2.8             NaN   \n",
      "277242       15  2018-12-31 23:00:00              3.3             NaN   \n",
      "\n",
      "        dew_temperature  precip_depth_1_hr  sea_level_pressure  \\\n",
      "277238              1.7                NaN              1018.3   \n",
      "277239              1.1                NaN              1017.8   \n",
      "277240              1.7               -1.0              1017.2   \n",
      "277241              2.2                8.0              1016.1   \n",
      "277242              2.2               20.0              1014.7   \n",
      "\n",
      "        wind_direction  wind_speed  \n",
      "277238           150.0         7.7  \n",
      "277239           140.0         5.1  \n",
      "277240           140.0         6.2  \n",
      "277241           140.0         5.1  \n",
      "277242           140.0         5.1  \n",
      "\u001b[2m\u001b[1m\u001b[34m\n",
      "DESCRIBE - Numerical\u001b[0m\n",
      "             site_id  air_temperature  cloud_coverage  dew_temperature  \\\n",
      "count  277243.000000    277139.000000   136795.000000    276916.000000   \n",
      "mean        7.484654        14.276863        2.187317         7.487658   \n",
      "std         4.616959        10.741605        2.620627        10.153973   \n",
      "min         0.000000       -28.100000        0.000000       -31.600000   \n",
      "25%         3.000000         7.200000        0.000000         0.600000   \n",
      "50%         7.000000        15.000000        2.000000         8.400000   \n",
      "75%        12.000000        22.200000        4.000000        15.000000   \n",
      "max        15.000000        48.300000        9.000000        26.700000   \n",
      "\n",
      "       precip_depth_1_hr  sea_level_pressure  wind_direction     wind_speed  \n",
      "count      181655.000000       255978.000000   264873.000000  276783.000000  \n",
      "mean            1.095395         1016.195762      180.426023       3.548873  \n",
      "std             9.163511            7.940392      110.456872       2.317184  \n",
      "min            -1.000000          972.000000        0.000000       0.000000  \n",
      "25%             0.000000         1011.600000       80.000000       2.100000  \n",
      "50%             0.000000         1016.300000      190.000000       3.100000  \n",
      "75%             0.000000         1020.800000      280.000000       4.600000  \n",
      "max           597.000000         1050.100000      360.000000      24.200000  \n",
      "\u001b[2m\u001b[1m\u001b[34m\n",
      "DESCRIBE - Categorical\u001b[0m\n",
      "                  timestamp\n",
      "count                277243\n",
      "unique                17520\n",
      "top     2018-12-31 23:00:00\n",
      "freq                     16\n",
      "\u001b[2m\u001b[1m\u001b[34m\n",
      "UNIQUE ENTRIES IN EACH NUMERICAL COLUMN\u001b[0m\n",
      "[('cloud_coverage', 10), ('site_id', 16), ('wind_direction', 60), ('wind_speed', 78), ('precip_depth_1_hr', 174), ('dew_temperature', 559), ('air_temperature', 639), ('sea_level_pressure', 717)]\n",
      "\u001b[2m\u001b[1m\u001b[34m\n",
      "UNIQUE ENTRIES IN EACH CATEGORICAL COLUMN\u001b[0m\n",
      "[('timestamp', 17520)]\n"
     ]
    }
   ],
   "source": [
    "ds_info(weather_test)"
   ]
  },
  {
   "cell_type": "markdown",
   "id": "2b5755a8",
   "metadata": {},
   "source": [
    "### Missing data"
   ]
  },
  {
   "cell_type": "code",
   "execution_count": 39,
   "id": "b1ec408d",
   "metadata": {},
   "outputs": [
    {
     "data": {
      "text/plain": [
       "<AxesSubplot:>"
      ]
     },
     "execution_count": 39,
     "metadata": {},
     "output_type": "execute_result"
    },
    {
     "data": {
      "image/png": "[encoded data removed]",
      "text/plain": [
       "<Figure size 432x288 with 1 Axes>"
      ]
     },
     "metadata": {
      "needs_background": "light"
     },
     "output_type": "display_data"
    }
   ],
   "source": [
    "sns.heatmap(train.isnull(),yticklabels=False,cbar=False,cmap='cividis')"
   ]
  },
  {
   "cell_type": "code",
   "execution_count": 40,
   "id": "2fbd4f80",
   "metadata": {},
   "outputs": [
    {
     "data": {
      "text/plain": [
       "<AxesSubplot:>"
      ]
     },
     "execution_count": 40,
     "metadata": {},
     "output_type": "execute_result"
    },
    {
     "data": {
      "image/png": "[encoded data removed]",
      "text/plain": [
       "<Figure size 432x288 with 1 Axes>"
      ]
     },
     "metadata": {
      "needs_background": "light"
     },
     "output_type": "display_data"
    }
   ],
   "source": [
    "sns.heatmap(build_meta.isnull(),yticklabels=False,cbar=False,cmap='cividis')"
   ]
  },
  {
   "cell_type": "code",
   "execution_count": 41,
   "id": "b6b84e32",
   "metadata": {},
   "outputs": [
    {
     "data": {
      "text/plain": [
       "<AxesSubplot:>"
      ]
     },
     "execution_count": 41,
     "metadata": {},
     "output_type": "execute_result"
    },
    {
     "data": {
      "image/png": "[encoded data removed]",
      "text/plain": [
       "<Figure size 432x288 with 1 Axes>"
      ]
     },
     "metadata": {
      "needs_background": "light"
     },
     "output_type": "display_data"
    }
   ],
   "source": [
    "sns.heatmap(weather_train.isnull(),yticklabels=False,cbar=False,cmap='cividis')"
   ]
  },
  {
   "cell_type": "code",
   "execution_count": 42,
   "id": "f4f1e432",
   "metadata": {},
   "outputs": [
    {
     "data": {
      "text/plain": [
       "<AxesSubplot:>"
      ]
     },
     "execution_count": 42,
     "metadata": {},
     "output_type": "execute_result"
    },
    {
     "data": {
      "image/png": "[encoded data removed]",
      "text/plain": [
       "<Figure size 432x288 with 1 Axes>"
      ]
     },
     "metadata": {
      "needs_background": "light"
     },
     "output_type": "display_data"
    }
   ],
   "source": [
    "sns.heatmap(weather_test.isnull(),yticklabels=False,cbar=False,cmap='cividis')"
   ]
  },
  {
   "cell_type": "markdown",
   "id": "7b1bc991",
   "metadata": {},
   "source": [
    "- train: no missing data\n",
    "- build_meta: most year_built and floor_count columns have missing data, analyse if worth drop or fulfill these columns\n",
    "- weather_train\n",
    "    - cloud_coverage: most rows are missing data, but this could means just a sunny day. It worth investigate again other features if is just missing data or a sunny day\n",
    "    - precip_depth_1_hr: the missing data could mean missing data or drought period \n",
    "    - sea_level: few missing data that probably can be fulfilled using avarage\n",
    "    - wind_direction: few rows with missing data, can be fulfilled"
   ]
  },
  {
   "cell_type": "code",
   "execution_count": null,
   "id": "5c797eeb",
   "metadata": {},
   "outputs": [],
   "source": []
  },
  {
   "cell_type": "code",
   "execution_count": null,
   "id": "35301623",
   "metadata": {},
   "outputs": [],
   "source": []
  },
  {
   "cell_type": "code",
   "execution_count": null,
   "id": "a6c01b5b",
   "metadata": {},
   "outputs": [],
   "source": []
  },
  {
   "cell_type": "code",
   "execution_count": null,
   "id": "f544fc15",
   "metadata": {},
   "outputs": [],
   "source": []
  },
  {
   "cell_type": "code",
   "execution_count": null,
   "id": "705d38bd",
   "metadata": {},
   "outputs": [],
   "source": []
  }
 ],
 "metadata": {
  "kernelspec": {
   "display_name": "Python 3 (ipykernel)",
   "language": "python",
   "name": "python3"
  },
  "language_info": {
   "codemirror_mode": {
    "name": "ipython",
    "version": 3
   },
   "file_extension": ".py",
   "mimetype": "text/x-python",
   "name": "python",
   "nbconvert_exporter": "python",
   "pygments_lexer": "ipython3",
   "version": "3.7.13"
  }
 },
 "nbformat": 4,
 "nbformat_minor": 5
}
