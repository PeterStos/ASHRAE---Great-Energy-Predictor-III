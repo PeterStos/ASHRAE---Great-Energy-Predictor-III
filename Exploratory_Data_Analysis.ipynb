{
 "cells": [
  {
   "cell_type": "markdown",
   "id": "4cfddf4a",
   "metadata": {},
   "source": [
    "# ASHRAE - Great Energy Predictor III"
   ]
  },
  {
   "cell_type": "code",
   "execution_count": null,
   "id": "133b9a9d",
   "metadata": {},
   "outputs": [],
   "source": []
  },
  {
   "cell_type": "code",
   "execution_count": null,
   "id": "e7dd3a96",
   "metadata": {},
   "outputs": [],
   "source": []
  },
  {
   "cell_type": "markdown",
   "id": "38e72e58",
   "metadata": {},
   "source": [
    "### Load libraries"
   ]
  },
  {
   "cell_type": "code",
   "execution_count": 5,
   "id": "9e169715",
   "metadata": {},
   "outputs": [],
   "source": [
    "import numpy as np\n",
    "import pandas as pd\n",
    "pd.set_option('display.max_columns', None)\n",
    "pd.set_option('display.max_rows', None) \n",
    "\n",
    "from termcolor import colored\n",
    "import pylab\n",
    "from sklearn.impute import SimpleImputer\n",
    "from sklearn.model_selection import train_test_split\n",
    "from sklearn.ensemble import RandomForestRegressor\n",
    "from sklearn.metrics import mean_absolute_error\n",
    "\n",
    "# To plot nice figures\n",
    "%matplotlib inline\n",
    "import matplotlib as mpl\n",
    "import matplotlib.pyplot as plt\n",
    "mpl.rc('axes', labelsize=14)\n",
    "mpl.rc('xtick', labelsize=12)\n",
    "mpl.rc('ytick', labelsize=12)\n",
    "\n",
    "# sklearn tools and models\n",
    "from sklearn.model_selection import GridSearchCV, RandomizedSearchCV\n",
    "from sklearn.ensemble import RandomForestClassifier\n",
    "from sklearn.metrics import accuracy_score, confusion_matrix, classification_report"
   ]
  },
  {
   "cell_type": "markdown",
   "id": "3e081df3",
   "metadata": {},
   "source": [
    "### Import Data"
   ]
  },
  {
   "cell_type": "markdown",
   "id": "68eedd2d",
   "metadata": {},
   "source": [
    "#### train.csv\n",
    "- building_id - Foreign key for the building metadata.\n",
    "- meter - The meter id code. Read as {0: electricity, 1: chilledwater, 2: steam, 3: hotwater}. Not every building has all meter types.\n",
    "- timestamp - When the measurement was taken\n",
    "- meter_reading - The target variable. Energy consumption in kWh (or equivalent). Note that this is real data with measurement error, which we expect will impose a baseline level of modeling error. UPDATE: as discussed here, the site 0 electric meter readings are in kBTU."
   ]
  },
  {
   "cell_type": "markdown",
   "id": "ebbbce93",
   "metadata": {},
   "source": [
    "#### test.csv\n",
    "The submission files use row numbers for ID codes in order to save space on the file uploads. test.csv has no feature data; it exists so you can get your predictions into the correct order.\n",
    "\n",
    "- row_id - Row id for your submission file\n",
    "- building_id - Building id code\n",
    "- meter - The meter id code\n",
    "- timestamp - Timestamps for the test data period"
   ]
  },
  {
   "cell_type": "markdown",
   "id": "35cbce68",
   "metadata": {},
   "source": [
    "#### building_meta.csv\n",
    "- site_id - Foreign key for the weather files.\n",
    "- building_id - Foreign key for training.csv\n",
    "- primary_use - Indicator of the primary category of activities for the building based on EnergyStar property type definitions\n",
    "- square_feet - Gross floor area of the building\n",
    "- year_built - Year building was opened\n",
    "- floor_count - Number of floors of the building"
   ]
  },
  {
   "cell_type": "markdown",
   "id": "d3ef4c3b",
   "metadata": {},
   "source": [
    "#### weather_[train/test].csv\n",
    "Weather data from a meteorological station as close as possible to the site.\n",
    "\n",
    "- site_id\n",
    "- air_temperature - Degrees Celsius\n",
    "- cloud_coverage - Portion of the sky covered in clouds, in oktas\n",
    "- dew_temperature - Degrees Celsius\n",
    "- precip_depth_1_hr - Millimeters\n",
    "- sea_level_pressure - Millibar/hectopascals\n",
    "- wind_direction - Compass direction (0-360)\n",
    "- wind_speed - Meters per second"
   ]
  },
  {
   "cell_type": "code",
   "execution_count": 10,
   "id": "3fe30e63",
   "metadata": {},
   "outputs": [],
   "source": [
    "# train.csv\n",
    "train_df = pd.read_csv(\"./data/train.csv\")\n",
    "# Copy\n",
    "train = train_df\n",
    "\n",
    "# test.csv\n",
    "test_df = pd.read_csv(\"./data/test.csv\")\n",
    "# Copy\n",
    "test = test_df\n",
    "\n",
    "# building_meta.csv\n",
    "build_meta_df = pd.read_csv(\"./data/building_metadata.csv\")\n",
    "# Copy\n",
    "build_meta = build_meta_df\n",
    "\n",
    "# weather_train.csv\n",
    "weather_train_df = pd.read_csv(\"./data/weather_train.csv\")\n",
    "# Copy\n",
    "weather_train = weather_train_df\n",
    "\n",
    "# weather_test.csv\n",
    "weather_test_df = pd.read_csv(\"./data/weather_test.csv\")\n",
    "# Copy\n",
    "weather_test = weather_test_df"
   ]
  },
  {
   "cell_type": "code",
   "execution_count": null,
   "id": "58e55784",
   "metadata": {},
   "outputs": [],
   "source": []
  },
  {
   "cell_type": "code",
   "execution_count": null,
   "id": "78ce3547",
   "metadata": {},
   "outputs": [],
   "source": []
  },
  {
   "cell_type": "code",
   "execution_count": null,
   "id": "433b8ff3",
   "metadata": {},
   "outputs": [],
   "source": []
  },
  {
   "cell_type": "code",
   "execution_count": null,
   "id": "41eefe5b",
   "metadata": {},
   "outputs": [],
   "source": []
  }
 ],
 "metadata": {
  "kernelspec": {
   "display_name": "Python 3 (ipykernel)",
   "language": "python",
   "name": "python3"
  },
  "language_info": {
   "codemirror_mode": {
    "name": "ipython",
    "version": 3
   },
   "file_extension": ".py",
   "mimetype": "text/x-python",
   "name": "python",
   "nbconvert_exporter": "python",
   "pygments_lexer": "ipython3",
   "version": "3.7.13"
  }
 },
 "nbformat": 4,
 "nbformat_minor": 5
}
